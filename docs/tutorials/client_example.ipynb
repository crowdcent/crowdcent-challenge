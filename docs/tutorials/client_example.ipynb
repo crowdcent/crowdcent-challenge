{
 "cells": [
  {
   "cell_type": "markdown",
   "metadata": {},
   "source": [
    "## Initialize the client"
   ]
  },
  {
   "cell_type": "code",
   "execution_count": 1,
   "metadata": {},
   "outputs": [
    {
     "name": "stderr",
     "output_type": "stream",
     "text": [
      "2025-05-07 02:08:00,665 - INFO - ChallengeClient initialized for 'hyperliquid-ranking' at URL: http://localhost:8080/api\n"
     ]
    }
   ],
   "source": [
    "import crowdcent_challenge as cc\n",
    "import polars as pl\n",
    "import numpy as np\n",
    "\n",
    "\n",
    "client = cc.ChallengeClient(\n",
    "    challenge_slug=\"hyperliquid-ranking\",\n",
    "    api_key=\"hD5EB4pf.KvY8281Kz4igdNBCK7P0RL6tG6J8EaAU\",\n",
    "    base_url=\"http://localhost:8080/api\",\n",
    ")"
   ]
  },
  {
   "cell_type": "markdown",
   "metadata": {},
   "source": [
    "## Get challenge and training datasets details"
   ]
  },
  {
   "cell_type": "code",
   "execution_count": 2,
   "metadata": {},
   "outputs": [
    {
     "data": {
      "text/plain": [
       "{'id': 6,\n",
       " 'name': 'Hyperliquid Ranking',\n",
       " 'slug': 'hyperliquid-ranking',\n",
       " 'description': 'A demo challenge for ranking crypto assets.',\n",
       " 'start_date': '2025-03-08T01:15:43.315966Z',\n",
       " 'end_date': None,\n",
       " 'is_active': True}"
      ]
     },
     "execution_count": 2,
     "metadata": {},
     "output_type": "execute_result"
    }
   ],
   "source": [
    "client.get_challenge()"
   ]
  },
  {
   "cell_type": "code",
   "execution_count": 3,
   "metadata": {},
   "outputs": [
    {
     "data": {
      "text/plain": [
       "[]"
      ]
     },
     "execution_count": 3,
     "metadata": {},
     "output_type": "execute_result"
    }
   ],
   "source": [
    "client.list_training_datasets()"
   ]
  },
  {
   "cell_type": "markdown",
   "metadata": {},
   "source": [
    "## Download current inference data"
   ]
  },
  {
   "cell_type": "code",
   "execution_count": 4,
   "metadata": {},
   "outputs": [
    {
     "name": "stderr",
     "output_type": "stream",
     "text": [
      "2025-05-07 02:08:00,706 - INFO - Downloading inference data for challenge 'hyperliquid-ranking' current to inference_data.parquet\n",
      "2025-05-07 02:08:00,724 - INFO - Successfully downloaded inference data to inference_data.parquet\n"
     ]
    }
   ],
   "source": [
    "client.download_inference_data(\n",
    "    release_date=\"current\", dest_path=\"inference_data.parquet\"\n",
    ")"
   ]
  },
  {
   "cell_type": "code",
   "execution_count": 5,
   "metadata": {},
   "outputs": [
    {
     "data": {
      "text/html": [
       "<div><style>\n",
       ".dataframe > thead > tr,\n",
       ".dataframe > tbody > tr {\n",
       "  text-align: right;\n",
       "  white-space: pre-wrap;\n",
       "}\n",
       "</style>\n",
       "<small>shape: (5, 1)</small><table border=\"1\" class=\"dataframe\"><thead><tr><th>id</th></tr><tr><td>str</td></tr></thead><tbody><tr><td>&quot;AAVE&quot;</td></tr><tr><td>&quot;ACE&quot;</td></tr><tr><td>&quot;ADA&quot;</td></tr><tr><td>&quot;AI&quot;</td></tr><tr><td>&quot;AI16Z&quot;</td></tr></tbody></table></div>"
      ],
      "text/plain": [
       "shape: (5, 1)\n",
       "┌───────┐\n",
       "│ id    │\n",
       "│ ---   │\n",
       "│ str   │\n",
       "╞═══════╡\n",
       "│ AAVE  │\n",
       "│ ACE   │\n",
       "│ ADA   │\n",
       "│ AI    │\n",
       "│ AI16Z │\n",
       "└───────┘"
      ]
     },
     "execution_count": 5,
     "metadata": {},
     "output_type": "execute_result"
    }
   ],
   "source": [
    "# Read in the inference data, in this case, just a universe\n",
    "inference_data = pl.read_parquet(\"inference_data.parquet\")\n",
    "inference_data.head()"
   ]
  },
  {
   "cell_type": "markdown",
   "metadata": {},
   "source": [
    "## Submit predictions"
   ]
  },
  {
   "cell_type": "code",
   "execution_count": 6,
   "metadata": {},
   "outputs": [
    {
     "name": "stdout",
     "output_type": "stream",
     "text": [
      "Inference data with prediction columns:\n",
      "shape: (5, 3)\n",
      "┌───────┬──────────┬──────────┐\n",
      "│ id    ┆ pred_10d ┆ pred_30d │\n",
      "│ ---   ┆ ---      ┆ ---      │\n",
      "│ str   ┆ f64      ┆ f64      │\n",
      "╞═══════╪══════════╪══════════╡\n",
      "│ AAVE  ┆ 0.952141 ┆ 0.887545 │\n",
      "│ ACE   ┆ 0.8793   ┆ 0.573542 │\n",
      "│ ADA   ┆ 0.197027 ┆ 0.546677 │\n",
      "│ AI    ┆ 0.429971 ┆ 0.666005 │\n",
      "│ AI16Z ┆ 0.557173 ┆ 0.099974 │\n",
      "└───────┴──────────┴──────────┘\n"
     ]
    }
   ],
   "source": [
    "# Add prediction columns with random float values for demonstration\n",
    "# Replace this with your actual prediction logic\n",
    "\n",
    "inference_data = inference_data.with_columns(\n",
    "    [\n",
    "        pl.Series(\"pred_10d\", np.random.random(len(inference_data))).cast(pl.Float64),\n",
    "        pl.Series(\"pred_30d\", np.random.random(len(inference_data))).cast(pl.Float64),\n",
    "    ]\n",
    ")\n",
    "\n",
    "# Display the first few rows to verify the new columns\n",
    "print(\"Inference data with prediction columns:\")\n",
    "print(inference_data.head())\n",
    "\n",
    "# You can save this modified dataframe if needed\n",
    "inference_data.write_parquet(\"inference_data_with_predictions.parquet\")"
   ]
  },
  {
   "cell_type": "code",
   "execution_count": 7,
   "metadata": {},
   "outputs": [
    {
     "name": "stderr",
     "output_type": "stream",
     "text": [
      "2025-05-07 02:08:00,770 - INFO - Submitting predictions from inference_data_with_predictions.parquet to challenge 'hyperliquid-ranking' (Slot: 1)\n",
      "2025-05-07 02:08:00,837 - INFO - Successfully submitted predictions to challenge 'hyperliquid-ranking'\n"
     ]
    },
    {
     "data": {
      "text/plain": [
       "{'id': 1479,\n",
       " 'username': 'admin',\n",
       " 'challenge_slug': 'hyperliquid-ranking',\n",
       " 'inference_data_release_date': '2025-05-07T02:07:50.696076Z',\n",
       " 'submitted_at': '2025-05-07T02:08:00.819449Z',\n",
       " 'status': 'pending',\n",
       " 'slot': 1,\n",
       " 'score_details': None,\n",
       " 'prediction_file': 'http://localhost:8080/media/challenges/hyperliquid-ranking/submissions/1/716/inference_data_with_predictions.parquet'}"
      ]
     },
     "execution_count": 7,
     "metadata": {},
     "output_type": "execute_result"
    }
   ],
   "source": [
    "client.submit_predictions(file_path=\"inference_data_with_predictions.parquet\", slot=1)"
   ]
  },
  {
   "cell_type": "code",
   "execution_count": 8,
   "metadata": {},
   "outputs": [
    {
     "name": "stderr",
     "output_type": "stream",
     "text": [
      "2025-05-07 02:08:00,851 - INFO - Submitting predictions from inference_data_with_predictions.parquet to challenge 'hyperliquid-ranking' (Slot: 1)\n",
      "2025-05-07 02:08:00,895 - INFO - Successfully submitted predictions to challenge 'hyperliquid-ranking'\n",
      "2025-05-07 02:08:00,896 - INFO - Submitting predictions from inference_data_with_predictions.parquet to challenge 'hyperliquid-ranking' (Slot: 2)\n",
      "2025-05-07 02:08:00,935 - INFO - Successfully submitted predictions to challenge 'hyperliquid-ranking'\n",
      "2025-05-07 02:08:00,936 - INFO - Submitting predictions from inference_data_with_predictions.parquet to challenge 'hyperliquid-ranking' (Slot: 3)\n",
      "2025-05-07 02:08:01,019 - INFO - Successfully submitted predictions to challenge 'hyperliquid-ranking'\n",
      "2025-05-07 02:08:01,020 - INFO - Submitting predictions from inference_data_with_predictions.parquet to challenge 'hyperliquid-ranking' (Slot: 4)\n",
      "2025-05-07 02:08:01,058 - INFO - Successfully submitted predictions to challenge 'hyperliquid-ranking'\n",
      "2025-05-07 02:08:01,059 - INFO - Submitting predictions from inference_data_with_predictions.parquet to challenge 'hyperliquid-ranking' (Slot: 5)\n",
      "2025-05-07 02:08:01,113 - INFO - Successfully submitted predictions to challenge 'hyperliquid-ranking'\n"
     ]
    }
   ],
   "source": [
    "for slot in range(1, 6):\n",
    "    client.submit_predictions(\n",
    "        file_path=\"inference_data_with_predictions.parquet\", slot=slot\n",
    "    )"
   ]
  },
  {
   "cell_type": "markdown",
   "metadata": {},
   "source": [
    "## Meta-model"
   ]
  },
  {
   "cell_type": "code",
   "execution_count": 9,
   "metadata": {},
   "outputs": [
    {
     "name": "stderr",
     "output_type": "stream",
     "text": [
      "2025-05-07 02:08:01,124 - INFO - Downloading consolidated meta model for challenge 'hyperliquid-ranking' to meta_model.parquet\n",
      "2025-05-07 02:08:02,687 - INFO - Successfully downloaded consolidated meta model to meta_model.parquet\n"
     ]
    },
    {
     "data": {
      "text/html": [
       "<div><style>\n",
       ".dataframe > thead > tr,\n",
       ".dataframe > tbody > tr {\n",
       "  text-align: right;\n",
       "  white-space: pre-wrap;\n",
       "}\n",
       "</style>\n",
       "<small>shape: (5, 4)</small><table border=\"1\" class=\"dataframe\"><thead><tr><th>id</th><th>pred_10d</th><th>pred_30d</th><th>release_date</th></tr><tr><td>str</td><td>f64</td><td>f64</td><td>date</td></tr></thead><tbody><tr><td>&quot;LDO&quot;</td><td>-0.096787</td><td>0.077537</td><td>2025-04-07</td></tr><tr><td>&quot;AI&quot;</td><td>-0.202331</td><td>0.089412</td><td>2025-04-07</td></tr><tr><td>&quot;ZRO&quot;</td><td>-0.025278</td><td>-0.145994</td><td>2025-04-07</td></tr><tr><td>&quot;kLUNC&quot;</td><td>0.078609</td><td>0.113463</td><td>2025-04-07</td></tr><tr><td>&quot;PANDORA&quot;</td><td>0.191133</td><td>0.082821</td><td>2025-04-07</td></tr></tbody></table></div>"
      ],
      "text/plain": [
       "shape: (5, 4)\n",
       "┌─────────┬───────────┬───────────┬──────────────┐\n",
       "│ id      ┆ pred_10d  ┆ pred_30d  ┆ release_date │\n",
       "│ ---     ┆ ---       ┆ ---       ┆ ---          │\n",
       "│ str     ┆ f64       ┆ f64       ┆ date         │\n",
       "╞═════════╪═══════════╪═══════════╪══════════════╡\n",
       "│ LDO     ┆ -0.096787 ┆ 0.077537  ┆ 2025-04-07   │\n",
       "│ AI      ┆ -0.202331 ┆ 0.089412  ┆ 2025-04-07   │\n",
       "│ ZRO     ┆ -0.025278 ┆ -0.145994 ┆ 2025-04-07   │\n",
       "│ kLUNC   ┆ 0.078609  ┆ 0.113463  ┆ 2025-04-07   │\n",
       "│ PANDORA ┆ 0.191133  ┆ 0.082821  ┆ 2025-04-07   │\n",
       "└─────────┴───────────┴───────────┴──────────────┘"
      ]
     },
     "execution_count": 9,
     "metadata": {},
     "output_type": "execute_result"
    }
   ],
   "source": [
    "client.download_meta_model(dest_path=\"meta_model.parquet\")\n",
    "pl.read_parquet(\"meta_model.parquet\").head()"
   ]
  }
 ],
 "metadata": {
  "kernelspec": {
   "display_name": ".venv",
   "language": "python",
   "name": "python3"
  },
  "language_info": {
   "codemirror_mode": {
    "name": "ipython",
    "version": 3
   },
   "file_extension": ".py",
   "mimetype": "text/x-python",
   "name": "python",
   "nbconvert_exporter": "python",
   "pygments_lexer": "ipython3",
   "version": "3.12.7"
  }
 },
 "nbformat": 4,
 "nbformat_minor": 2
}
