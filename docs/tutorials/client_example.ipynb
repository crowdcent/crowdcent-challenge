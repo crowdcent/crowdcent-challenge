{
 "cells": [
  {
   "cell_type": "markdown",
   "metadata": {},
   "source": [
    "<div align=\"center\">\n",
    "  <a target=\"_blank\" href=\"https://colab.research.google.com/github/crowdcent/crowdcent-challenge/blob/main/docs/tutorials/client_example.ipynb\">\n",
    "    <img src=\"https://colab.research.google.com/assets/colab-badge.svg\" alt=\"Open In Colab\"/>\n",
    "  </a>\n",
    "</div>"
   ]
  },
  {
   "cell_type": "markdown",
   "metadata": {},
   "source": [
    "### Initialize the client"
   ]
  },
  {
   "cell_type": "code",
   "execution_count": null,
   "metadata": {},
   "outputs": [],
   "source": [
    "import crowdcent_challenge as cc\n",
    "import polars as pl\n",
    "import numpy as np\n",
    "\n",
    "\n",
    "client = cc.ChallengeClient(\n",
    "    challenge_slug=\"hyperliquid-ranking\",\n",
    "    api_key=\"hD5EB4pf.KvY8281Kz4igdNBCK7P0RL6tG6J8EaAU\",\n",
    "    base_url=\"http://localhost:8080/api\",\n",
    ")"
   ]
  },
  {
   "cell_type": "markdown",
   "metadata": {},
   "source": [
    "### Get challenge and training datasets details"
   ]
  },
  {
   "cell_type": "code",
   "execution_count": null,
   "metadata": {},
   "outputs": [],
   "source": [
    "client.get_challenge()"
   ]
  },
  {
   "cell_type": "code",
   "execution_count": null,
   "metadata": {},
   "outputs": [],
   "source": [
    "client.list_training_datasets()"
   ]
  },
  {
   "cell_type": "markdown",
   "metadata": {},
   "source": [
    "### Download current inference data"
   ]
  },
  {
   "cell_type": "code",
   "execution_count": null,
   "metadata": {},
   "outputs": [],
   "source": [
    "client.download_inference_data(\n",
    "    release_date=\"current\", dest_path=\"inference_data.parquet\"\n",
    ")"
   ]
  },
  {
   "cell_type": "code",
   "execution_count": null,
   "metadata": {},
   "outputs": [],
   "source": [
    "# Read in the inference data, in this case, just a universe\n",
    "inference_data = pl.read_parquet(\"inference_data.parquet\")\n",
    "inference_data.head()"
   ]
  },
  {
   "cell_type": "markdown",
   "metadata": {},
   "source": [
    "### Submit predictions"
   ]
  },
  {
   "cell_type": "code",
   "execution_count": null,
   "metadata": {},
   "outputs": [],
   "source": [
    "# Add prediction columns with random float values for demonstration\n",
    "# Replace this with your actual prediction logic\n",
    "\n",
    "inference_data = inference_data.with_columns(\n",
    "    [\n",
    "        pl.Series(\"pred_10d\", np.random.random(len(inference_data))).cast(pl.Float64),\n",
    "        pl.Series(\"pred_30d\", np.random.random(len(inference_data))).cast(pl.Float64),\n",
    "    ]\n",
    ")\n",
    "\n",
    "# You can save this modified dataframe if needed\n",
    "inference_data.write_parquet(\"inference_data_with_predictions.parquet\")\n",
    "\n",
    "# Display the first few rows to verify the new columns\n",
    "print(\"Inference data with prediction columns:\")\n",
    "inference_data.head()"
   ]
  },
  {
   "cell_type": "code",
   "execution_count": null,
   "metadata": {},
   "outputs": [],
   "source": [
    "client.submit_predictions(file_path=\"inference_data_with_predictions.parquet\", slot=1)"
   ]
  },
  {
   "cell_type": "code",
   "execution_count": null,
   "metadata": {},
   "outputs": [],
   "source": [
    "for slot in range(1, 6):\n",
    "    client.submit_predictions(\n",
    "        file_path=\"inference_data_with_predictions.parquet\", slot=slot\n",
    "    )"
   ]
  },
  {
   "cell_type": "markdown",
   "metadata": {},
   "source": [
    "## Meta-model"
   ]
  },
  {
   "cell_type": "code",
   "execution_count": null,
   "metadata": {},
   "outputs": [],
   "source": [
    "client.download_meta_model(dest_path=\"meta_model.parquet\")\n",
    "pl.read_parquet(\"meta_model.parquet\").head()"
   ]
  }
 ],
 "metadata": {
  "kernelspec": {
   "display_name": ".venv",
   "language": "python",
   "name": "python3"
  },
  "language_info": {
   "codemirror_mode": {
    "name": "ipython",
    "version": 3
   },
   "file_extension": ".py",
   "mimetype": "text/x-python",
   "name": "python",
   "nbconvert_exporter": "python",
   "pygments_lexer": "ipython3",
   "version": "3.12.7"
  }
 },
 "nbformat": 4,
 "nbformat_minor": 2
}
