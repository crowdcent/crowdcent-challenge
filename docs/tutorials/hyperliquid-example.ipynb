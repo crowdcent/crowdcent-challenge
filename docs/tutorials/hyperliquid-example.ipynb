{
 "cells": [
  {
   "cell_type": "markdown",
   "metadata": {},
   "source": [
    "<div align=\"center\">\n",
    "  <a target=\"_blank\" href=\"https://colab.research.google.com/github/crowdcent/crowdcent-challenge/blob/main/docs/tutorials/hyperliquid-example.ipynb\">\n",
    "    <img src=\"https://colab.research.google.com/assets/colab-badge.svg\" alt=\"Open In Colab\"/>\n",
    "  </a>\n",
    "</div>"
   ]
  },
  {
   "cell_type": "markdown",
   "metadata": {},
   "source": [
    "## Build a model on CrowdCent's training data and submit"
   ]
  },
  {
   "cell_type": "markdown",
   "metadata": {},
   "source": [
    "### Load API key\n",
    "\n",
    "For this tutorial, you will need:\n",
    "1) **CrowdCent API Key**: register for free at https://crowdcent.com/accounts/signup/"
   ]
  },
  {
   "cell_type": "code",
   "execution_count": 1,
   "metadata": {},
   "outputs": [],
   "source": [
    "%load_ext dotenv\n",
    "%dotenv\n",
    "\n",
    "import os\n",
    "import crowdcent_challenge as cc\n",
    "import polars as pl\n",
    "from catboost import CatBoostRegressor\n",
    "\n",
    "CROWDCENT_API_KEY = os.environ[\"CROWDCENT_API_KEY\"]"
   ]
  },
  {
   "cell_type": "markdown",
   "metadata": {},
   "source": [
    "### Initialize the client"
   ]
  },
  {
   "cell_type": "code",
   "execution_count": null,
   "metadata": {},
   "outputs": [],
   "source": [
    "client = cc.ChallengeClient(\n",
    "    challenge_slug=\"hyperliquid-ranking\",\n",
    "    api_key=CROWDCENT_API_KEY,\n",
    "    base_url=\"http://localhost:8080/api\",\n",
    ")"
   ]
  },
  {
   "cell_type": "markdown",
   "metadata": {},
   "source": [
    "### Get CrowdCent's training data"
   ]
  },
  {
   "cell_type": "code",
   "execution_count": null,
   "metadata": {},
   "outputs": [],
   "source": [
    "client.download_training_data(\n",
    "    version=\"latest\", dest_path=\"training_data.parquet\"\n",
    ")\n",
    "\n",
    "training_data = pl.read_parquet(\"training_data.parquet\")\n",
    "training_data.head()"
   ]
  },
  {
   "cell_type": "markdown",
   "metadata": {},
   "source": [
    "### Train a model on the training data"
   ]
  },
  {
   "cell_type": "code",
   "execution_count": null,
   "metadata": {},
   "outputs": [],
   "source": [
    "cb_regressor = CatBoostRegressor(loss_function=\"MultiRMSE\")\n",
    "feature_names = [col for col in training_data.columns if col.startswith(\"feature\")]\n",
    "\n",
    "cb_regressor.fit(\n",
    "    training_data[feature_names],\n",
    "    training_data[[\"target_10d\", \"target_30d\"]],\n",
    ")"
   ]
  },
  {
   "cell_type": "markdown",
   "metadata": {},
   "source": [
    "### Get CrowdCent's latest inference data"
   ]
  },
  {
   "cell_type": "code",
   "execution_count": null,
   "metadata": {},
   "outputs": [],
   "source": [
    "# inference tickers\n",
    "client.download_inference_data(\n",
    "    release_date=\"current\", dest_path=\"inference_data.parquet\"\n",
    ")\n",
    "\n",
    "inference_data = pl.read_parquet(\"inference_data.parquet\")\n",
    "inference_data.head()"
   ]
  },
  {
   "cell_type": "markdown",
   "metadata": {},
   "source": [
    "### Make predictions on the inference data"
   ]
  },
  {
   "cell_type": "code",
   "execution_count": null,
   "metadata": {},
   "outputs": [],
   "source": [
    "preds = cb_regressor.predict(inference_data[feature_names])\n",
    "preds.head()"
   ]
  },
  {
   "cell_type": "markdown",
   "metadata": {},
   "source": [
    "### Submit to the `hyperliquid-ranking` challenge on CrowdCent"
   ]
  },
  {
   "cell_type": "code",
   "execution_count": null,
   "metadata": {},
   "outputs": [],
   "source": [
    "client.submit_predictions(preds)"
   ]
  }
 ],
 "metadata": {
  "kernelspec": {
   "display_name": ".venv",
   "language": "python",
   "name": "python3"
  },
  "language_info": {
   "codemirror_mode": {
    "name": "ipython",
    "version": 3
   },
   "file_extension": ".py",
   "mimetype": "text/x-python",
   "name": "python",
   "nbconvert_exporter": "python",
   "pygments_lexer": "ipython3",
   "version": "3.12.7"
  }
 },
 "nbformat": 4,
 "nbformat_minor": 2
}
