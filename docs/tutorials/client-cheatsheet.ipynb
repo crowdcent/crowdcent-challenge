{
 "cells": [
  {
   "cell_type": "markdown",
   "metadata": {},
   "source": [
    "<div align=\"center\">\n",
    "  <a target=\"_blank\" href=\"https://colab.research.google.com/github/crowdcent/crowdcent-challenge/blob/main/docs/tutorials/client-cheatsheet.ipynb\">\n",
    "    <img src=\"https://colab.research.google.com/assets/colab-badge.svg\" alt=\"Open In Colab\"/>\n",
    "  </a>\n",
    "</div>"
   ]
  },
  {
   "cell_type": "markdown",
   "metadata": {},
   "source": [
    "### Set API Key"
   ]
  },
  {
   "cell_type": "code",
   "execution_count": 1,
   "metadata": {},
   "outputs": [],
   "source": [
    "%load_ext dotenv\n",
    "%dotenv\n",
    "\n",
    "import crowdcent_challenge as cc\n",
    "import polars as pl\n",
    "import numpy as np\n",
    "import os\n",
    "\n",
    "CROWDCENT_API_KEY = os.environ[\"CROWDCENT_API_KEY\"]"
   ]
  },
  {
   "cell_type": "markdown",
   "metadata": {},
   "source": [
    "### Initialize the client"
   ]
  },
  {
   "cell_type": "code",
   "execution_count": 2,
   "metadata": {},
   "outputs": [
    {
     "name": "stderr",
     "output_type": "stream",
     "text": [
      "2025-06-09 16:20:19,597 - INFO - ChallengeClient initialized for 'hyperliquid-ranking' at URL: https://crowdcent.com/api\n"
     ]
    }
   ],
   "source": [
    "client = cc.ChallengeClient(\n",
    "    challenge_slug=\"hyperliquid-ranking\",\n",
    ")"
   ]
  },
  {
   "cell_type": "markdown",
   "metadata": {},
   "source": [
    "### Get challenge and training datasets details"
   ]
  },
  {
   "cell_type": "code",
   "execution_count": 3,
   "metadata": {},
   "outputs": [
    {
     "data": {
      "text/plain": [
       "{'id': 5,\n",
       " 'name': 'Hyperliquid Ranking',\n",
       " 'slug': 'hyperliquid-ranking',\n",
       " 'description': 'Build machine learning models to predict the future, relative price movement of crypto assets listed on Hyperliquid 10 days and 30 days from now.\\r\\n\\r\\nWe are not affiliated with Hyperliquid.',\n",
       " 'start_date': '2025-06-05T12:34:26Z',\n",
       " 'end_date': None,\n",
       " 'is_active': True}"
      ]
     },
     "execution_count": 3,
     "metadata": {},
     "output_type": "execute_result"
    }
   ],
   "source": [
    "client.get_challenge()"
   ]
  },
  {
   "cell_type": "code",
   "execution_count": 4,
   "metadata": {},
   "outputs": [
    {
     "data": {
      "text/plain": [
       "[{'id': 2,\n",
       "  'challenge_slug': 'hyperliquid-ranking',\n",
       "  'version': '1.0',\n",
       "  'is_latest': True,\n",
       "  'feature_description': 'The training data contains 80 total features following the pattern feature_{n}_lag{lag}:\\r\\n\\r\\n- 20 unique features (n = 1 to 20)\\r\\n- 4 lag values per feature (0, 5, 10, 15 days)\\r\\n\\r\\nFeatures with the same number represent the same metric at different time points. For example, feature_1_lag0 through feature_1_lag15 track the same underlying metric over time. This structure preserves temporal relationships, allowing you to build sequence models (LSTM, GRU, Transformer), identify trends/patterns across different time horizons, and engineer additional features based on temporal changes.',\n",
       "  'target_description': \"Targets are the rankings of an asset's 10d and 30d forward relative returns (with a 1d lag). Targets do not currently take funding rate or any other factors (e.g. market cap, volume, etc.) into account. It's possible that the targets will be updated in the future to include such factors.\",\n",
       "  'uploaded_at': '2025-06-05T12:38:31.402576Z',\n",
       "  'download_url': 'https://crowdcent.com/api/challenges/hyperliquid-ranking/training_data/1.0/download/'}]"
      ]
     },
     "execution_count": 4,
     "metadata": {},
     "output_type": "execute_result"
    }
   ],
   "source": [
    "client.list_training_datasets()"
   ]
  },
  {
   "cell_type": "markdown",
   "metadata": {},
   "source": [
    "### Download current or latest inference data"
   ]
  },
  {
   "cell_type": "code",
   "execution_count": 5,
   "metadata": {},
   "outputs": [
    {
     "data": {
      "text/plain": [
       "{'id': 11,\n",
       " 'challenge_slug': 'hyperliquid-ranking',\n",
       " 'release_date': '2025-06-09T14:01:01.161998Z',\n",
       " 'submission_deadline': '2025-06-09T18:01:01.161998Z',\n",
       " 'is_processed': False,\n",
       " 'download_url': 'https://crowdcent.com/api/challenges/hyperliquid-ranking/inference_data/2025-06-09/download/',\n",
       " 'time_remaining': '1.7 hours'}"
      ]
     },
     "execution_count": 5,
     "metadata": {},
     "output_type": "execute_result"
    }
   ],
   "source": [
    "client.get_inference_data(\"latest\")"
   ]
  },
  {
   "cell_type": "code",
   "execution_count": 6,
   "metadata": {},
   "outputs": [
    {
     "name": "stderr",
     "output_type": "stream",
     "text": [
      "2025-06-09 16:20:20,334 - INFO - Downloading inference data for challenge 'hyperliquid-ranking' current to inference_data.parquet\n",
      "Downloading inference_data.parquet: 100%|██████████| 129k/129k [00:00<00:00, 6.76MB/s]\n",
      "2025-06-09 16:20:20,671 - INFO - Successfully downloaded inference data to inference_data.parquet\n",
      "2025-06-09 16:20:20,672 - INFO - Successfully downloaded inference data after 1 attempt(s) to inference_data.parquet\n"
     ]
    }
   ],
   "source": [
    "client.download_inference_data(\n",
    "    release_date=\"current\", dest_path=\"inference_data.parquet\"\n",
    ")"
   ]
  },
  {
   "cell_type": "code",
   "execution_count": 7,
   "metadata": {},
   "outputs": [
    {
     "data": {
      "text/html": [
       "<div><style>\n",
       ".dataframe > thead > tr,\n",
       ".dataframe > tbody > tr {\n",
       "  text-align: right;\n",
       "  white-space: pre-wrap;\n",
       "}\n",
       "</style>\n",
       "<small>shape: (5, 83)</small><table border=\"1\" class=\"dataframe\"><thead><tr><th>id</th><th>eodhd_id</th><th>date</th><th>feature_16_lag15</th><th>feature_13_lag15</th><th>feature_14_lag15</th><th>feature_15_lag15</th><th>feature_8_lag15</th><th>feature_5_lag15</th><th>feature_6_lag15</th><th>feature_7_lag15</th><th>feature_12_lag15</th><th>feature_9_lag15</th><th>feature_10_lag15</th><th>feature_11_lag15</th><th>feature_4_lag15</th><th>feature_1_lag15</th><th>feature_2_lag15</th><th>feature_3_lag15</th><th>feature_20_lag15</th><th>feature_17_lag15</th><th>feature_18_lag15</th><th>feature_19_lag15</th><th>feature_16_lag10</th><th>feature_13_lag10</th><th>feature_14_lag10</th><th>feature_15_lag10</th><th>feature_8_lag10</th><th>feature_5_lag10</th><th>feature_6_lag10</th><th>feature_7_lag10</th><th>feature_12_lag10</th><th>feature_9_lag10</th><th>feature_10_lag10</th><th>feature_11_lag10</th><th>feature_4_lag10</th><th>feature_1_lag10</th><th>&hellip;</th><th>feature_15_lag5</th><th>feature_8_lag5</th><th>feature_5_lag5</th><th>feature_6_lag5</th><th>feature_7_lag5</th><th>feature_12_lag5</th><th>feature_9_lag5</th><th>feature_10_lag5</th><th>feature_11_lag5</th><th>feature_4_lag5</th><th>feature_1_lag5</th><th>feature_2_lag5</th><th>feature_3_lag5</th><th>feature_20_lag5</th><th>feature_17_lag5</th><th>feature_18_lag5</th><th>feature_19_lag5</th><th>feature_16_lag0</th><th>feature_13_lag0</th><th>feature_14_lag0</th><th>feature_15_lag0</th><th>feature_8_lag0</th><th>feature_5_lag0</th><th>feature_6_lag0</th><th>feature_7_lag0</th><th>feature_12_lag0</th><th>feature_9_lag0</th><th>feature_10_lag0</th><th>feature_11_lag0</th><th>feature_4_lag0</th><th>feature_1_lag0</th><th>feature_2_lag0</th><th>feature_3_lag0</th><th>feature_20_lag0</th><th>feature_17_lag0</th><th>feature_18_lag0</th><th>feature_19_lag0</th></tr><tr><td>str</td><td>str</td><td>datetime[μs]</td><td>f64</td><td>f64</td><td>f64</td><td>f64</td><td>f64</td><td>f64</td><td>f64</td><td>f64</td><td>f64</td><td>f64</td><td>f64</td><td>f64</td><td>f64</td><td>f64</td><td>f64</td><td>f64</td><td>f64</td><td>f64</td><td>f64</td><td>f64</td><td>f64</td><td>f64</td><td>f64</td><td>f64</td><td>f64</td><td>f64</td><td>f64</td><td>f64</td><td>f64</td><td>f64</td><td>f64</td><td>f64</td><td>f64</td><td>f64</td><td>&hellip;</td><td>f64</td><td>f64</td><td>f64</td><td>f64</td><td>f64</td><td>f64</td><td>f64</td><td>f64</td><td>f64</td><td>f64</td><td>f64</td><td>f64</td><td>f64</td><td>f64</td><td>f64</td><td>f64</td><td>f64</td><td>f64</td><td>f64</td><td>f64</td><td>f64</td><td>f64</td><td>f64</td><td>f64</td><td>f64</td><td>f64</td><td>f64</td><td>f64</td><td>f64</td><td>f64</td><td>f64</td><td>f64</td><td>f64</td><td>f64</td><td>f64</td><td>f64</td><td>f64</td></tr></thead><tbody><tr><td>&quot;PYTH&quot;</td><td>&quot;PYTH-USD.CC&quot;</td><td>2025-06-08 00:00:00</td><td>0.356213</td><td>0.313268</td><td>0.388676</td><td>0.430942</td><td>0.366864</td><td>0.275218</td><td>0.366181</td><td>0.421273</td><td>0.466272</td><td>0.318431</td><td>0.404669</td><td>0.424983</td><td>0.499408</td><td>0.345087</td><td>0.411836</td><td>0.434626</td><td>0.405917</td><td>0.415427</td><td>0.435123</td><td>0.465662</td><td>0.607101</td><td>0.481657</td><td>0.423885</td><td>0.440786</td><td>0.626036</td><td>0.49645</td><td>0.397689</td><td>0.440551</td><td>0.521893</td><td>0.494083</td><td>0.41707</td><td>0.421781</td><td>0.491124</td><td>0.495266</td><td>&hellip;</td><td>0.436416</td><td>0.385799</td><td>0.505917</td><td>0.390568</td><td>0.420564</td><td>0.513609</td><td>0.517751</td><td>0.418091</td><td>0.437646</td><td>0.544379</td><td>0.517751</td><td>0.431419</td><td>0.434151</td><td>0.433136</td><td>0.44497</td><td>0.430199</td><td>0.463895</td><td>0.622485</td><td>0.527811</td><td>0.504734</td><td>0.448413</td><td>0.501775</td><td>0.443787</td><td>0.470118</td><td>0.425605</td><td>0.571598</td><td>0.542604</td><td>0.518343</td><td>0.454728</td><td>0.60355</td><td>0.573964</td><td>0.534615</td><td>0.459444</td><td>0.435503</td><td>0.43432</td><td>0.43284</td><td>0.463965</td></tr><tr><td>&quot;RSR&quot;</td><td>&quot;RSR-USD.CC&quot;</td><td>2025-06-08 00:00:00</td><td>0.578698</td><td>0.490064</td><td>0.451651</td><td>0.497864</td><td>0.55503</td><td>0.473577</td><td>0.437025</td><td>0.484949</td><td>0.486391</td><td>0.492466</td><td>0.42143</td><td>0.46844</td><td>0.507692</td><td>0.494879</td><td>0.432078</td><td>0.489316</td><td>0.462722</td><td>0.458376</td><td>0.504701</td><td>0.482021</td><td>0.357396</td><td>0.468047</td><td>0.409976</td><td>0.470975</td><td>0.404734</td><td>0.479882</td><td>0.418329</td><td>0.479957</td><td>0.304142</td><td>0.395266</td><td>0.3809</td><td>0.444279</td><td>0.330178</td><td>0.418935</td><td>&hellip;</td><td>0.465218</td><td>0.423669</td><td>0.414201</td><td>0.443889</td><td>0.469804</td><td>0.427219</td><td>0.36568</td><td>0.429073</td><td>0.447165</td><td>0.504142</td><td>0.41716</td><td>0.456019</td><td>0.468522</td><td>0.52071</td><td>0.532544</td><td>0.49546</td><td>0.499041</td><td>0.547929</td><td>0.476331</td><td>0.472189</td><td>0.457354</td><td>0.423669</td><td>0.423669</td><td>0.451775</td><td>0.43963</td><td>0.55503</td><td>0.491124</td><td>0.443195</td><td>0.444556</td><td>0.439053</td><td>0.471598</td><td>0.445266</td><td>0.449458</td><td>0.388166</td><td>0.454438</td><td>0.478994</td><td>0.49214</td></tr><tr><td>&quot;INJ&quot;</td><td>&quot;INJ-USD.CC&quot;</td><td>2025-06-08 00:00:00</td><td>0.605917</td><td>0.57736</td><td>0.588146</td><td>0.576009</td><td>0.718343</td><td>0.637651</td><td>0.606953</td><td>0.567946</td><td>0.731361</td><td>0.573006</td><td>0.607233</td><td>0.56306</td><td>0.725444</td><td>0.588993</td><td>0.61576</td><td>0.585962</td><td>0.626036</td><td>0.606879</td><td>0.565018</td><td>0.553379</td><td>0.75503</td><td>0.680473</td><td>0.621783</td><td>0.608503</td><td>0.622485</td><td>0.670414</td><td>0.609864</td><td>0.577455</td><td>0.652071</td><td>0.691716</td><td>0.603985</td><td>0.585323</td><td>0.597633</td><td>0.661538</td><td>&hellip;</td><td>0.564593</td><td>0.480473</td><td>0.551479</td><td>0.594565</td><td>0.556858</td><td>0.327811</td><td>0.489941</td><td>0.531474</td><td>0.553963</td><td>0.418935</td><td>0.508284</td><td>0.548639</td><td>0.561156</td><td>0.502959</td><td>0.492899</td><td>0.549889</td><td>0.534348</td><td>0.740828</td><td>0.517751</td><td>0.599112</td><td>0.591233</td><td>0.759763</td><td>0.620118</td><td>0.645266</td><td>0.601226</td><td>0.687574</td><td>0.507692</td><td>0.599704</td><td>0.58509</td><td>0.784615</td><td>0.601775</td><td>0.631657</td><td>0.608329</td><td>0.569231</td><td>0.536095</td><td>0.545266</td><td>0.539689</td></tr><tr><td>&quot;ZEN&quot;</td><td>&quot;ZEN-USD.CC&quot;</td><td>2025-06-08 00:00:00</td><td>0.530178</td><td>0.541846</td><td>0.524401</td><td>0.509716</td><td>0.572781</td><td>0.522647</td><td>0.535058</td><td>0.514253</td><td>0.55858</td><td>0.481942</td><td>0.474025</td><td>0.474323</td><td>0.553846</td><td>0.528716</td><td>0.516441</td><td>0.505751</td><td>0.501775</td><td>0.492466</td><td>0.515593</td><td>0.498992</td><td>0.523077</td><td>0.526627</td><td>0.513002</td><td>0.484648</td><td>0.511243</td><td>0.542012</td><td>0.519194</td><td>0.494608</td><td>0.480473</td><td>0.519527</td><td>0.467637</td><td>0.444861</td><td>0.51716</td><td>0.535503</td><td>&hellip;</td><td>0.528473</td><td>0.665089</td><td>0.588166</td><td>0.555406</td><td>0.522402</td><td>0.816568</td><td>0.648521</td><td>0.565231</td><td>0.498992</td><td>0.738462</td><td>0.627811</td><td>0.578263</td><td>0.529029</td><td>0.459172</td><td>0.490533</td><td>0.491499</td><td>0.507538</td><td>0.35503</td><td>0.581065</td><td>0.553846</td><td>0.528725</td><td>0.347929</td><td>0.506509</td><td>0.52426</td><td>0.517248</td><td>0.295858</td><td>0.556213</td><td>0.53787</td><td>0.502992</td><td>0.378698</td><td>0.55858</td><td>0.547041</td><td>0.532089</td><td>0.230769</td><td>0.34497</td><td>0.428402</td><td>0.477047</td></tr><tr><td>&quot;POLYX&quot;</td><td>&quot;POLYX-USD.CC&quot;</td><td>2025-06-08 00:00:00</td><td>0.519527</td><td>0.548214</td><td>0.531049</td><td>0.515521</td><td>0.511243</td><td>0.539589</td><td>0.497433</td><td>0.498685</td><td>0.533728</td><td>0.525194</td><td>0.504009</td><td>0.498328</td><td>0.498225</td><td>0.524687</td><td>0.525611</td><td>0.505625</td><td>0.495858</td><td>0.383752</td><td>0.488007</td><td>0.487293</td><td>0.350296</td><td>0.434911</td><td>0.510491</td><td>0.472554</td><td>0.318343</td><td>0.414793</td><td>0.480332</td><td>0.444326</td><td>0.331361</td><td>0.432544</td><td>0.483235</td><td>0.442214</td><td>0.36568</td><td>0.431953</td><td>&hellip;</td><td>0.483102</td><td>0.547929</td><td>0.433136</td><td>0.486362</td><td>0.476278</td><td>0.557396</td><td>0.444379</td><td>0.484786</td><td>0.465358</td><td>0.51716</td><td>0.44142</td><td>0.483053</td><td>0.48566</td><td>0.481657</td><td>0.546154</td><td>0.464953</td><td>0.504036</td><td>0.589349</td><td>0.528994</td><td>0.481953</td><td>0.503759</td><td>0.553846</td><td>0.550888</td><td>0.48284</td><td>0.485418</td><td>0.628402</td><td>0.592899</td><td>0.512722</td><td>0.496921</td><td>0.597633</td><td>0.557396</td><td>0.494675</td><td>0.505395</td><td>0.598817</td><td>0.540237</td><td>0.546746</td><td>0.513075</td></tr></tbody></table></div>"
      ],
      "text/plain": [
       "shape: (5, 83)\n",
       "┌───────┬────────────┬────────────┬────────────┬───┬───────────┬───────────┬───────────┬───────────┐\n",
       "│ id    ┆ eodhd_id   ┆ date       ┆ feature_16 ┆ … ┆ feature_2 ┆ feature_1 ┆ feature_1 ┆ feature_1 │\n",
       "│ ---   ┆ ---        ┆ ---        ┆ _lag15     ┆   ┆ 0_lag0    ┆ 7_lag0    ┆ 8_lag0    ┆ 9_lag0    │\n",
       "│ str   ┆ str        ┆ datetime[μ ┆ ---        ┆   ┆ ---       ┆ ---       ┆ ---       ┆ ---       │\n",
       "│       ┆            ┆ s]         ┆ f64        ┆   ┆ f64       ┆ f64       ┆ f64       ┆ f64       │\n",
       "╞═══════╪════════════╪════════════╪════════════╪═══╪═══════════╪═══════════╪═══════════╪═══════════╡\n",
       "│ PYTH  ┆ PYTH-USD.C ┆ 2025-06-08 ┆ 0.356213   ┆ … ┆ 0.435503  ┆ 0.43432   ┆ 0.43284   ┆ 0.463965  │\n",
       "│       ┆ C          ┆ 00:00:00   ┆            ┆   ┆           ┆           ┆           ┆           │\n",
       "│ RSR   ┆ RSR-USD.CC ┆ 2025-06-08 ┆ 0.578698   ┆ … ┆ 0.388166  ┆ 0.454438  ┆ 0.478994  ┆ 0.49214   │\n",
       "│       ┆            ┆ 00:00:00   ┆            ┆   ┆           ┆           ┆           ┆           │\n",
       "│ INJ   ┆ INJ-USD.CC ┆ 2025-06-08 ┆ 0.605917   ┆ … ┆ 0.569231  ┆ 0.536095  ┆ 0.545266  ┆ 0.539689  │\n",
       "│       ┆            ┆ 00:00:00   ┆            ┆   ┆           ┆           ┆           ┆           │\n",
       "│ ZEN   ┆ ZEN-USD.CC ┆ 2025-06-08 ┆ 0.530178   ┆ … ┆ 0.230769  ┆ 0.34497   ┆ 0.428402  ┆ 0.477047  │\n",
       "│       ┆            ┆ 00:00:00   ┆            ┆   ┆           ┆           ┆           ┆           │\n",
       "│ POLYX ┆ POLYX-USD. ┆ 2025-06-08 ┆ 0.519527   ┆ … ┆ 0.598817  ┆ 0.540237  ┆ 0.546746  ┆ 0.513075  │\n",
       "│       ┆ CC         ┆ 00:00:00   ┆            ┆   ┆           ┆           ┆           ┆           │\n",
       "└───────┴────────────┴────────────┴────────────┴───┴───────────┴───────────┴───────────┴───────────┘"
      ]
     },
     "execution_count": 7,
     "metadata": {},
     "output_type": "execute_result"
    }
   ],
   "source": [
    "# Read in the inference data, in this case, just a universe\n",
    "inference_data = pl.read_parquet(\"inference_data.parquet\")\n",
    "inference_data.head()"
   ]
  },
  {
   "cell_type": "markdown",
   "metadata": {},
   "source": [
    "### Submit predictions"
   ]
  },
  {
   "cell_type": "code",
   "execution_count": 8,
   "metadata": {},
   "outputs": [],
   "source": [
    "# Replace this with your actual prediction logic\n",
    "\n",
    "submission_data = inference_data.with_columns(\n",
    "    [\n",
    "        pl.Series(\"pred_10d\", np.random.random(len(inference_data))).cast(pl.Float64),\n",
    "        pl.Series(\"pred_30d\", np.random.random(len(inference_data))).cast(pl.Float64),\n",
    "    ]\n",
    ")\n",
    "\n",
    "# You can save this modified dataframe if needed\n",
    "submission_data.write_parquet(\"submission.parquet\")"
   ]
  },
  {
   "cell_type": "code",
   "execution_count": 9,
   "metadata": {},
   "outputs": [],
   "source": [
    "client.submit_predictions(df=submission_data)\n",
    "client.submit_predictions(file_path=\"submission.parquet\", slot=1)"
   ]
  },
  {
   "cell_type": "code",
   "execution_count": 10,
   "metadata": {},
   "outputs": [],
   "source": [
    "for slot in range(1, 6):\n",
    "    client.submit_predictions(\n",
    "        file_path=\"inference_data_with_predictions.parquet\", slot=slot\n",
    "    )"
   ]
  },
  {
   "cell_type": "markdown",
   "metadata": {},
   "source": [
    "## Meta-model"
   ]
  },
  {
   "cell_type": "code",
   "execution_count": 11,
   "metadata": {},
   "outputs": [
    {
     "name": "stderr",
     "output_type": "stream",
     "text": [
      "2025-06-09 16:20:20,768 - INFO - Downloading consolidated meta model for challenge 'hyperliquid-ranking' to meta_model.parquet\n",
      "Downloading meta_model.parquet: 100%|██████████| 8.46k/8.46k [00:00<00:00, 10.2MB/s]\n",
      "2025-06-09 16:20:20,955 - INFO - Successfully downloaded consolidated meta model to meta_model.parquet\n"
     ]
    },
    {
     "data": {
      "text/html": [
       "<div><style>\n",
       ".dataframe > thead > tr,\n",
       ".dataframe > tbody > tr {\n",
       "  text-align: right;\n",
       "  white-space: pre-wrap;\n",
       "}\n",
       "</style>\n",
       "<small>shape: (676, 4)</small><table border=\"1\" class=\"dataframe\"><thead><tr><th>id</th><th>pred_10d</th><th>pred_30d</th><th>release_date</th></tr><tr><td>str</td><td>f64</td><td>f64</td><td>date</td></tr></thead><tbody><tr><td>&quot;TRUMP&quot;</td><td>0.193294</td><td>0.323471</td><td>2025-06-05</td></tr><tr><td>&quot;PENDLE&quot;</td><td>0.901381</td><td>0.435897</td><td>2025-06-05</td></tr><tr><td>&quot;DOGE&quot;</td><td>0.295858</td><td>0.284024</td><td>2025-06-05</td></tr><tr><td>&quot;ZK&quot;</td><td>0.412229</td><td>0.197239</td><td>2025-06-05</td></tr><tr><td>&quot;ETH&quot;</td><td>0.960552</td><td>0.982249</td><td>2025-06-05</td></tr><tr><td>&hellip;</td><td>&hellip;</td><td>&hellip;</td><td>&hellip;</td></tr><tr><td>&quot;SUPER&quot;</td><td>0.157791</td><td>0.175542</td><td>2025-06-08</td></tr><tr><td>&quot;NIL&quot;</td><td>0.453649</td><td>0.145957</td><td>2025-06-08</td></tr><tr><td>&quot;INJ&quot;</td><td>0.522682</td><td>0.968442</td><td>2025-06-08</td></tr><tr><td>&quot;OMNI&quot;</td><td>0.970414</td><td>0.944773</td><td>2025-06-08</td></tr><tr><td>&quot;TRX&quot;</td><td>0.877712</td><td>0.708087</td><td>2025-06-08</td></tr></tbody></table></div>"
      ],
      "text/plain": [
       "shape: (676, 4)\n",
       "┌────────┬──────────┬──────────┬──────────────┐\n",
       "│ id     ┆ pred_10d ┆ pred_30d ┆ release_date │\n",
       "│ ---    ┆ ---      ┆ ---      ┆ ---          │\n",
       "│ str    ┆ f64      ┆ f64      ┆ date         │\n",
       "╞════════╪══════════╪══════════╪══════════════╡\n",
       "│ TRUMP  ┆ 0.193294 ┆ 0.323471 ┆ 2025-06-05   │\n",
       "│ PENDLE ┆ 0.901381 ┆ 0.435897 ┆ 2025-06-05   │\n",
       "│ DOGE   ┆ 0.295858 ┆ 0.284024 ┆ 2025-06-05   │\n",
       "│ ZK     ┆ 0.412229 ┆ 0.197239 ┆ 2025-06-05   │\n",
       "│ ETH    ┆ 0.960552 ┆ 0.982249 ┆ 2025-06-05   │\n",
       "│ …      ┆ …        ┆ …        ┆ …            │\n",
       "│ SUPER  ┆ 0.157791 ┆ 0.175542 ┆ 2025-06-08   │\n",
       "│ NIL    ┆ 0.453649 ┆ 0.145957 ┆ 2025-06-08   │\n",
       "│ INJ    ┆ 0.522682 ┆ 0.968442 ┆ 2025-06-08   │\n",
       "│ OMNI   ┆ 0.970414 ┆ 0.944773 ┆ 2025-06-08   │\n",
       "│ TRX    ┆ 0.877712 ┆ 0.708087 ┆ 2025-06-08   │\n",
       "└────────┴──────────┴──────────┴──────────────┘"
      ]
     },
     "execution_count": 11,
     "metadata": {},
     "output_type": "execute_result"
    }
   ],
   "source": [
    "client.download_meta_model(dest_path=\"meta_model.parquet\")\n",
    "pl.read_parquet(\"meta_model.parquet\")"
   ]
  }
 ],
 "metadata": {
  "kernelspec": {
   "display_name": ".venv",
   "language": "python",
   "name": "python3"
  },
  "language_info": {
   "codemirror_mode": {
    "name": "ipython",
    "version": 3
   },
   "file_extension": ".py",
   "mimetype": "text/x-python",
   "name": "python",
   "nbconvert_exporter": "python",
   "pygments_lexer": "ipython3",
   "version": "3.12.7"
  }
 },
 "nbformat": 4,
 "nbformat_minor": 2
}
