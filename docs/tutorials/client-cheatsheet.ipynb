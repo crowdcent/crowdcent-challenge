{
 "cells": [
  {
   "cell_type": "markdown",
   "metadata": {},
   "source": [
    "<div align=\"center\">\n",
    "  <a target=\"_blank\" href=\"https://colab.research.google.com/github/crowdcent/crowdcent-challenge/blob/main/docs/tutorials/client-cheatsheet.ipynb\">\n",
    "    <img src=\"https://colab.research.google.com/assets/colab-badge.svg\" alt=\"Open In Colab\"/>\n",
    "  </a>\n",
    "</div>"
   ]
  },
  {
   "cell_type": "markdown",
   "metadata": {},
   "source": [
    "### Set API Key"
   ]
  },
  {
   "cell_type": "code",
   "execution_count": 1,
   "metadata": {},
   "outputs": [],
   "source": [
    "%load_ext dotenv\n",
    "%dotenv\n",
    "\n",
    "import crowdcent_challenge as cc\n",
    "import polars as pl\n",
    "import numpy as np\n",
    "import os\n",
    "\n",
    "CROWDCENT_API_KEY = os.environ[\"CROWDCENT_API_KEY\"]"
   ]
  },
  {
   "cell_type": "markdown",
   "metadata": {},
   "source": [
    "### Initialize the client"
   ]
  },
  {
   "cell_type": "code",
   "execution_count": null,
   "metadata": {},
   "outputs": [],
   "source": [
    "client = cc.ChallengeClient(\n",
    "    challenge_slug=\"hyperliquid-ranking\",\n",
    ")"
   ]
  },
  {
   "cell_type": "markdown",
   "metadata": {},
   "source": [
    "### Get challenge and training datasets details"
   ]
  },
  {
   "cell_type": "code",
   "execution_count": null,
   "metadata": {},
   "outputs": [],
   "source": [
    "client.get_challenge()"
   ]
  },
  {
   "cell_type": "code",
   "execution_count": null,
   "metadata": {},
   "outputs": [],
   "source": [
    "client.list_training_datasets()"
   ]
  },
  {
   "cell_type": "markdown",
   "metadata": {},
   "source": [
    "### Download current inference data"
   ]
  },
  {
   "cell_type": "code",
   "execution_count": null,
   "metadata": {},
   "outputs": [],
   "source": [
    "client.get_inference_data(\"latest\")"
   ]
  },
  {
   "cell_type": "code",
   "execution_count": null,
   "metadata": {},
   "outputs": [],
   "source": [
    "import time\n",
    "\n",
    "while True:  # keep checking until a period appears\n",
    "    try:\n",
    "        client.download_inference_data(\"current\", \"inference_data.parquet\")\n",
    "        print(\"✅ new inference period – file saved\")\n",
    "        break  # success → exit loop\n",
    "    except cc.NotFoundError:  # no active period yet\n",
    "        time.sleep(60)  # wait 60 s before trying again"
   ]
  },
  {
   "cell_type": "code",
   "execution_count": null,
   "metadata": {},
   "outputs": [],
   "source": [
    "client.download_inference_data(\n",
    "    release_date=\"latest\", dest_path=\"inference_data.parquet\"\n",
    ")"
   ]
  },
  {
   "cell_type": "code",
   "execution_count": null,
   "metadata": {},
   "outputs": [],
   "source": [
    "# Read in the inference data, in this case, just a universe\n",
    "inference_data = pl.read_parquet(\"inference_data.parquet\")\n",
    "inference_data.head()"
   ]
  },
  {
   "cell_type": "markdown",
   "metadata": {},
   "source": [
    "### Submit predictions"
   ]
  },
  {
   "cell_type": "code",
   "execution_count": null,
   "metadata": {},
   "outputs": [],
   "source": [
    "# Replace this with your actual prediction logic\n",
    "\n",
    "submission_data = inference_data.with_columns(\n",
    "    [\n",
    "        pl.Series(\"pred_10d\", np.random.random(len(inference_data))).cast(pl.Float64),\n",
    "        pl.Series(\"pred_30d\", np.random.random(len(inference_data))).cast(pl.Float64),\n",
    "    ]\n",
    ")\n",
    "\n",
    "# You can save this modified dataframe if needed\n",
    "submission_data.write_parquet(\"submission.parquet\")"
   ]
  },
  {
   "cell_type": "code",
   "execution_count": null,
   "metadata": {},
   "outputs": [],
   "source": [
    "client.submit_predictions(df=submission_data)\n",
    "client.submit_predictions(file_path=\"submission.parquet\", slot=1)"
   ]
  },
  {
   "cell_type": "code",
   "execution_count": null,
   "metadata": {},
   "outputs": [],
   "source": [
    "for slot in range(1, 6):\n",
    "    client.submit_predictions(\n",
    "        file_path=\"inference_data_with_predictions.parquet\", slot=slot\n",
    "    )"
   ]
  },
  {
   "cell_type": "markdown",
   "metadata": {},
   "source": [
    "## Meta-model"
   ]
  },
  {
   "cell_type": "code",
   "execution_count": 11,
   "metadata": {},
   "outputs": [
    {
     "name": "stderr",
     "output_type": "stream",
     "text": [
      "2025-06-05 02:33:58,718 - INFO - Downloading consolidated meta model for challenge 'hyperliquid-ranking' to meta_model.parquet\n",
      "2025-06-05 02:33:59,265 - INFO - Successfully downloaded consolidated meta model to meta_model.parquet\n"
     ]
    },
    {
     "data": {
      "text/html": [
       "<div><style>\n",
       ".dataframe > thead > tr,\n",
       ".dataframe > tbody > tr {\n",
       "  text-align: right;\n",
       "  white-space: pre-wrap;\n",
       "}\n",
       "</style>\n",
       "<small>shape: (5, 4)</small><table border=\"1\" class=\"dataframe\"><thead><tr><th>id</th><th>pred_10d</th><th>pred_30d</th><th>release_date</th></tr><tr><td>str</td><td>f32</td><td>f32</td><td>datetime[μs, UTC]</td></tr></thead><tbody><tr><td>&quot;PIXEL&quot;</td><td>0.785101</td><td>0.415266</td><td>2025-06-03 14:58:09.696716 UTC</td></tr><tr><td>&quot;ADA&quot;</td><td>0.286367</td><td>0.768597</td><td>2025-06-03 14:58:09.696716 UTC</td></tr><tr><td>&quot;RSR&quot;</td><td>0.429568</td><td>0.512441</td><td>2025-06-03 14:58:09.696716 UTC</td></tr><tr><td>&quot;VINE&quot;</td><td>0.429594</td><td>0.364257</td><td>2025-06-03 14:58:09.696716 UTC</td></tr><tr><td>&quot;GALA&quot;</td><td>0.157936</td><td>0.82046</td><td>2025-06-03 14:58:09.696716 UTC</td></tr></tbody></table></div>"
      ],
      "text/plain": [
       "shape: (5, 4)\n",
       "┌───────┬──────────┬──────────┬────────────────────────────────┐\n",
       "│ id    ┆ pred_10d ┆ pred_30d ┆ release_date                   │\n",
       "│ ---   ┆ ---      ┆ ---      ┆ ---                            │\n",
       "│ str   ┆ f32      ┆ f32      ┆ datetime[μs, UTC]              │\n",
       "╞═══════╪══════════╪══════════╪════════════════════════════════╡\n",
       "│ PIXEL ┆ 0.785101 ┆ 0.415266 ┆ 2025-06-03 14:58:09.696716 UTC │\n",
       "│ ADA   ┆ 0.286367 ┆ 0.768597 ┆ 2025-06-03 14:58:09.696716 UTC │\n",
       "│ RSR   ┆ 0.429568 ┆ 0.512441 ┆ 2025-06-03 14:58:09.696716 UTC │\n",
       "│ VINE  ┆ 0.429594 ┆ 0.364257 ┆ 2025-06-03 14:58:09.696716 UTC │\n",
       "│ GALA  ┆ 0.157936 ┆ 0.82046  ┆ 2025-06-03 14:58:09.696716 UTC │\n",
       "└───────┴──────────┴──────────┴────────────────────────────────┘"
      ]
     },
     "execution_count": 11,
     "metadata": {},
     "output_type": "execute_result"
    }
   ],
   "source": [
    "client.download_meta_model(dest_path=\"meta_model.parquet\")\n",
    "pl.read_parquet(\"meta_model.parquet\").head()"
   ]
  }
 ],
 "metadata": {
  "kernelspec": {
   "display_name": ".venv",
   "language": "python",
   "name": "python3"
  },
  "language_info": {
   "codemirror_mode": {
    "name": "ipython",
    "version": 3
   },
   "file_extension": ".py",
   "mimetype": "text/x-python",
   "name": "python",
   "nbconvert_exporter": "python",
   "pygments_lexer": "ipython3",
   "version": "3.12.7"
  }
 },
 "nbformat": 4,
 "nbformat_minor": 2
}
