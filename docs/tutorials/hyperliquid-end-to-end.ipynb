{
 "cells": [
  {
   "cell_type": "markdown",
   "metadata": {},
   "source": [
    "<div align=\"center\">\n",
    "  <a target=\"_blank\" href=\"https://colab.research.google.com/github/crowdcent/crowdcent-challenge/blob/main/docs/tutorials/hyperliquid-example.ipynb\">\n",
    "    <img src=\"https://colab.research.google.com/assets/colab-badge.svg\" alt=\"Open In Colab\"/>\n",
    "  </a>\n",
    "</div>"
   ]
  },
  {
   "cell_type": "markdown",
   "metadata": {},
   "source": [
    "## Build a model on CrowdCent's training data and submit"
   ]
  },
  {
   "cell_type": "markdown",
   "metadata": {},
   "source": [
    "### Load API key\n",
    "\n",
    "For this tutorial, you will need:\n",
    "1) **CrowdCent API Key**: register for free at https://crowdcent.com/accounts/signup/"
   ]
  },
  {
   "cell_type": "code",
   "execution_count": 1,
   "metadata": {},
   "outputs": [],
   "source": [
    "%load_ext dotenv\n",
    "%dotenv\n",
    "\n",
    "import os\n",
    "import crowdcent_challenge as cc\n",
    "import polars as pl\n",
    "from xgboost import XGBRegressor\n",
    "\n",
    "CROWDCENT_API_KEY = os.environ[\"CROWDCENT_API_KEY\"]"
   ]
  },
  {
   "cell_type": "markdown",
   "metadata": {},
   "source": [
    "### Initialize the client"
   ]
  },
  {
   "cell_type": "code",
   "execution_count": 2,
   "metadata": {},
   "outputs": [
    {
     "name": "stderr",
     "output_type": "stream",
     "text": [
      "2025-05-30 20:02:38,836 - INFO - ChallengeClient initialized for 'hyperliquid-ranking' at URL: http://localhost:8080/api\n"
     ]
    }
   ],
   "source": [
    "client = cc.ChallengeClient(\n",
    "    challenge_slug=\"hyperliquid-ranking\",\n",
    "    api_key=CROWDCENT_API_KEY,\n",
    "    base_url=\"http://localhost:8080/api\",\n",
    ")"
   ]
  },
  {
   "cell_type": "markdown",
   "metadata": {},
   "source": [
    "### Get CrowdCent's training data"
   ]
  },
  {
   "cell_type": "code",
   "execution_count": null,
   "metadata": {},
   "outputs": [],
   "source": [
    "client.download_training_data(\n",
    "    version=\"latest\", dest_path=\"training_data.parquet\"\n",
    ")\n",
    "\n",
    "training_data = pl.read_parquet(\"training_data.parquet\")\n",
    "training_data.head()"
   ]
  },
  {
   "cell_type": "markdown",
   "metadata": {},
   "source": [
    "### Train a model on the training data"
   ]
  },
  {
   "cell_type": "code",
   "execution_count": null,
   "metadata": {},
   "outputs": [],
   "source": [
    "xgb_regressor = XGBRegressor()\n",
    "feature_names = [col for col in training_data.columns if col.startswith(\"feature\")]\n",
    "\n",
    "xgb_regressor.fit(\n",
    "    training_data[feature_names],\n",
    "    training_data[[\"target_10d\", \"target_30d\"]],\n",
    ")"
   ]
  },
  {
   "cell_type": "markdown",
   "metadata": {},
   "source": [
    "### Get CrowdCent's latest inference data"
   ]
  },
  {
   "cell_type": "code",
   "execution_count": 3,
   "metadata": {},
   "outputs": [
    {
     "name": "stderr",
     "output_type": "stream",
     "text": [
      "2025-05-30 20:02:45,517 - INFO - Downloading inference data for challenge 'hyperliquid-ranking' current to inference_data.parquet\n",
      "2025-05-30 20:02:45,560 - INFO - Successfully downloaded inference data to inference_data.parquet\n"
     ]
    },
    {
     "data": {
      "text/html": [
       "<div><style>\n",
       ".dataframe > thead > tr,\n",
       ".dataframe > tbody > tr {\n",
       "  text-align: right;\n",
       "  white-space: pre-wrap;\n",
       "}\n",
       "</style>\n",
       "<small>shape: (5, 2)</small><table border=\"1\" class=\"dataframe\"><thead><tr><th>id</th><th>eodhd_id</th></tr><tr><td>str</td><td>str</td></tr></thead><tbody><tr><td>&quot;BABY&quot;</td><td>&quot;BABY32198-USD.CC&quot;</td></tr><tr><td>&quot;OM&quot;</td><td>&quot;OM-USD.CC&quot;</td></tr><tr><td>&quot;IOTA&quot;</td><td>&quot;IOTA-USD.CC&quot;</td></tr><tr><td>&quot;MOODENG&quot;</td><td>&quot;MOODENG33093-USD.CC&quot;</td></tr><tr><td>&quot;ENS&quot;</td><td>&quot;ENS-USD.CC&quot;</td></tr></tbody></table></div>"
      ],
      "text/plain": [
       "shape: (5, 2)\n",
       "┌─────────┬─────────────────────┐\n",
       "│ id      ┆ eodhd_id            │\n",
       "│ ---     ┆ ---                 │\n",
       "│ str     ┆ str                 │\n",
       "╞═════════╪═════════════════════╡\n",
       "│ BABY    ┆ BABY32198-USD.CC    │\n",
       "│ OM      ┆ OM-USD.CC           │\n",
       "│ IOTA    ┆ IOTA-USD.CC         │\n",
       "│ MOODENG ┆ MOODENG33093-USD.CC │\n",
       "│ ENS     ┆ ENS-USD.CC          │\n",
       "└─────────┴─────────────────────┘"
      ]
     },
     "execution_count": 3,
     "metadata": {},
     "output_type": "execute_result"
    }
   ],
   "source": [
    "# inference tickers\n",
    "client.download_inference_data(\n",
    "    release_date=\"current\", dest_path=\"inference_data.parquet\"\n",
    ")\n",
    "\n",
    "inference_data = pl.read_parquet(\"inference_data.parquet\")\n",
    "inference_data.head()"
   ]
  },
  {
   "cell_type": "markdown",
   "metadata": {},
   "source": [
    "### Make predictions on the inference data"
   ]
  },
  {
   "cell_type": "code",
   "execution_count": null,
   "metadata": {},
   "outputs": [],
   "source": [
    "preds = xgb_regressor.predict(inference_data[feature_names])\n",
    "preds.head()"
   ]
  },
  {
   "cell_type": "markdown",
   "metadata": {},
   "source": [
    "### Submit to the `hyperliquid-ranking` challenge on CrowdCent"
   ]
  },
  {
   "cell_type": "code",
   "execution_count": null,
   "metadata": {},
   "outputs": [],
   "source": [
    "client.submit_predictions(preds)"
   ]
  }
 ],
 "metadata": {
  "kernelspec": {
   "display_name": ".venv",
   "language": "python",
   "name": "python3"
  },
  "language_info": {
   "codemirror_mode": {
    "name": "ipython",
    "version": 3
   },
   "file_extension": ".py",
   "mimetype": "text/x-python",
   "name": "python",
   "nbconvert_exporter": "python",
   "pygments_lexer": "ipython3",
   "version": "3.12.7"
  }
 },
 "nbformat": 4,
 "nbformat_minor": 2
}
